{
  "cells": [
    {
      "cell_type": "markdown",
      "metadata": {
        "id": "XTZ7kcCydrJ3"
      },
      "source": [
        "## Data and objective"
      ]
    },
    {
      "cell_type": "markdown",
      "metadata": {
        "id": "XhP95crWFenV"
      },
      "source": [
        "###Objective\n",
        "\n",
        "Predict adult female (18+) anemia status in the US."
      ]
    },
    {
      "cell_type": "markdown",
      "metadata": {
        "id": "QbrckiywdwPX"
      },
      "source": [
        "\n",
        "\n",
        "###Target vector: Anemia\n",
        "\n",
        "'According to the World Health Organization (WHO), anemia is defined as `hemoglobin (Hb)` levels `<12.0 g/dL` in women and `<13.0 g/dL` in men.\n",
        "\n",
        "Source: https://www.sciencedirect.com/science/article/abs/pii/S0037196315000621 \n",
        "\n",
        "###Features (independent variables):\n",
        "\n",
        "age, height, weight, education, race, family income to poverty ratio,dominant hand, arm circumference, arm lenghth in cm,\tleg length in cm,  waist circumference\t\n",
        "\n",
        "### Data\n",
        "\n",
        "National Health and Nutrition Examination Survey (NHANES) 2013-2014\n",
        "\n",
        "source: https://wwwn.cdc.gov/nchs/nhanes/continuousnhanes/default.aspx?BeginYear=2013"
      ]
    },
    {
      "cell_type": "code",
      "execution_count": null,
      "metadata": {
        "id": "OS1rxMRqLWZm"
      },
      "outputs": [],
      "source": [
        "%%capture\n",
        "\n",
        "!pip install category_encoders==2.*\n",
        "!pip install pandas_profiling==2.*"
      ]
    },
    {
      "cell_type": "code",
      "execution_count": null,
      "metadata": {
        "id": "Y4mN71ODLY2Z"
      },
      "outputs": [],
      "source": [
        "from category_encoders import OrdinalEncoder\n",
        "from sklearn.ensemble import RandomForestClassifier\n",
        "from sklearn.model_selection import train_test_split\n",
        "from sklearn.metrics import accuracy_score\n",
        "from sklearn.impute import SimpleImputer\n",
        "from sklearn.model_selection import cross_val_score, validation_curve # k-fold CV\n",
        "from sklearn.model_selection import GridSearchCV, RandomizedSearchCV # Hyperparameter tuning\n",
        "from sklearn.pipeline import make_pipeline\n",
        "from sklearn.tree import DecisionTreeClassifier\n",
        "import numpy as np\n",
        "import matplotlib.pyplot as plt"
      ]
    },
    {
      "cell_type": "code",
      "execution_count": null,
      "metadata": {
        "id": "zKPFJL0I_CBs"
      },
      "outputs": [],
      "source": [
        "import pandas as pd\n",
        "directory=pd.read_csv('/content/females.csv')\n",
        "\n",
        "pd.set_option('display.max_columns', None)\n",
        "print(directory.shape)\n",
        "\n",
        "directory.head(2)"
      ]
    },
    {
      "cell_type": "markdown",
      "source": [
        "**ProfileReport**"
      ],
      "metadata": {
        "id": "0rr3gGv2Xjv2"
      }
    },
    {
      "cell_type": "code",
      "execution_count": null,
      "metadata": {
        "id": "FyXFfugH1H-_"
      },
      "outputs": [],
      "source": [
        "from pandas_profiling import ProfileReport\n",
        "\n",
        "report = ProfileReport(directory, minimal=True).to_notebook_iframe()\n",
        "report"
      ]
    },
    {
      "cell_type": "markdown",
      "source": [
        "**Data Wrangling**"
      ],
      "metadata": {
        "id": "UE7SGxX3Xn2w"
      }
    },
    {
      "cell_type": "code",
      "execution_count": null,
      "metadata": {
        "id": "q0LHAbS9A8Ga"
      },
      "outputs": [],
      "source": [
        "def wrangle(me):\n",
        "  df=pd.read_csv(me, index_col='id').sort_index()\n",
        "  df.drop(['Unnamed: 0'], axis=1, inplace=True)\n",
        "\n",
        "  # select only demographic features:\n",
        "  df=df[['age','race','education','pregnancy','inc_poverty_ratio',\n",
        "  #'hr_60sec','pulse_60sec','pulse_regularity','pulse_type','systol1','diastol1','systol2',\n",
        "  #'diastol2','systol3','diastol3','systol4','diastol4',\n",
        "  'weight','head_circum','height',\n",
        "  'leg_cm','arm_cm','arm_circum','waist_circum','pregnant_or_breastfeeding','dominant_hand','hemoglobin']]\n",
        "  # filter observations with age>18 years of age\n",
        "  df = df[df['age'] >=18] \n",
        "\n",
        "  # drop columns with NaN values (>50%)\n",
        "  df.dropna(axis=1, thresh=2431, inplace = True)\n",
        "\n",
        "  # # create a new feature for mean of systolic and then drop sys1, sys2, sys3\n",
        "  # df['systolic_bp'] = (df['systol1'] + df['systol2'] + df['systol3'])/3\n",
        "  # df.drop(columns= ['systol1','systol2','systol3'], inplace=True)\n",
        "  # # create new feature for mean of diastolic and then drop dias1, dias2, dias3\n",
        "  # df['diastolic_bp'] = (df['diastol1']+df['diastol2']+df['diastol3'])/3\n",
        "  # df.drop(columns= ['diastol1','diastol2','diastol3'], inplace=True)\n",
        "  # # Create the target variable (anemia) from 'hemoglobing' level in blood\n",
        "\n",
        "  # create target vector (anemia), and drop 'hemoglobin'\n",
        "  df.loc[(df['hemoglobin'] <12), 'anemia'] = 1\n",
        "  df.loc[(df['hemoglobin'] >=12), 'anemia'] = 0\n",
        "  df.drop(columns= ['hemoglobin'], inplace=True)\n",
        "  # change dtype:\n",
        "  # df[['anemia']] = df['anemia'].astype(int)\n",
        "  # df[['education']] = df['education'].astype(int)\n",
        "  # df[['dominant_hand']] = df['dominant_hand'].astype(int)\n",
        "  # drop any row with a missing value\n",
        "  df.dropna(axis=0, how='any', inplace=True)\n",
        "\n",
        "  # sort column by their names\n",
        "  df = df.reindex(sorted(df.columns), axis=1)\n",
        "\n",
        "  return df\n",
        "\n",
        "df_f = wrangle('/content/females.csv')\n"
      ]
    },
    {
      "cell_type": "code",
      "execution_count": null,
      "metadata": {
        "id": "9IV_KY45_29C",
        "colab": {
          "base_uri": "https://localhost:8080/",
          "height": 299
        },
        "outputId": "c168a3ec-06d6-494f-e4c7-e483d54ab379"
      },
      "outputs": [
        {
          "output_type": "stream",
          "name": "stdout",
          "text": [
            "(2281, 12)\n"
          ]
        },
        {
          "output_type": "execute_result",
          "data": {
            "text/plain": [
              "       age  anemia  arm_circum  arm_cm  dominant_hand  education  height  \\\n",
              "id                                                                         \n",
              "73564   61     0.0        38.0    39.3            1.0        5.0   161.8   \n",
              "73566   56     0.0        29.0    33.5            2.0        3.0   152.8   \n",
              "73568   26     0.0        25.8    32.6            1.0        5.0   152.5   \n",
              "73574   33     1.0        26.5    33.4            1.0        5.0   158.0   \n",
              "73596   57     0.0        37.2    37.6            1.0        5.0   164.7   \n",
              "\n",
              "       inc_poverty_ratio  leg_cm  race  waist_circum  weight  \n",
              "id                                                            \n",
              "73564               5.00    37.1     3         110.8    93.4  \n",
              "73566               0.48    32.4     3          85.5    61.8  \n",
              "73568               5.00    34.4     3          73.7    47.1  \n",
              "73574               2.10    37.5     6          78.7    56.8  \n",
              "73596               5.00    35.3     6         117.8   104.0  "
            ],
            "text/html": [
              "\n",
              "  <div id=\"df-56afee9a-096a-4e10-904b-a091ee5f910f\">\n",
              "    <div class=\"colab-df-container\">\n",
              "      <div>\n",
              "<style scoped>\n",
              "    .dataframe tbody tr th:only-of-type {\n",
              "        vertical-align: middle;\n",
              "    }\n",
              "\n",
              "    .dataframe tbody tr th {\n",
              "        vertical-align: top;\n",
              "    }\n",
              "\n",
              "    .dataframe thead th {\n",
              "        text-align: right;\n",
              "    }\n",
              "</style>\n",
              "<table border=\"1\" class=\"dataframe\">\n",
              "  <thead>\n",
              "    <tr style=\"text-align: right;\">\n",
              "      <th></th>\n",
              "      <th>age</th>\n",
              "      <th>anemia</th>\n",
              "      <th>arm_circum</th>\n",
              "      <th>arm_cm</th>\n",
              "      <th>dominant_hand</th>\n",
              "      <th>education</th>\n",
              "      <th>height</th>\n",
              "      <th>inc_poverty_ratio</th>\n",
              "      <th>leg_cm</th>\n",
              "      <th>race</th>\n",
              "      <th>waist_circum</th>\n",
              "      <th>weight</th>\n",
              "    </tr>\n",
              "    <tr>\n",
              "      <th>id</th>\n",
              "      <th></th>\n",
              "      <th></th>\n",
              "      <th></th>\n",
              "      <th></th>\n",
              "      <th></th>\n",
              "      <th></th>\n",
              "      <th></th>\n",
              "      <th></th>\n",
              "      <th></th>\n",
              "      <th></th>\n",
              "      <th></th>\n",
              "      <th></th>\n",
              "    </tr>\n",
              "  </thead>\n",
              "  <tbody>\n",
              "    <tr>\n",
              "      <th>73564</th>\n",
              "      <td>61</td>\n",
              "      <td>0.0</td>\n",
              "      <td>38.0</td>\n",
              "      <td>39.3</td>\n",
              "      <td>1.0</td>\n",
              "      <td>5.0</td>\n",
              "      <td>161.8</td>\n",
              "      <td>5.00</td>\n",
              "      <td>37.1</td>\n",
              "      <td>3</td>\n",
              "      <td>110.8</td>\n",
              "      <td>93.4</td>\n",
              "    </tr>\n",
              "    <tr>\n",
              "      <th>73566</th>\n",
              "      <td>56</td>\n",
              "      <td>0.0</td>\n",
              "      <td>29.0</td>\n",
              "      <td>33.5</td>\n",
              "      <td>2.0</td>\n",
              "      <td>3.0</td>\n",
              "      <td>152.8</td>\n",
              "      <td>0.48</td>\n",
              "      <td>32.4</td>\n",
              "      <td>3</td>\n",
              "      <td>85.5</td>\n",
              "      <td>61.8</td>\n",
              "    </tr>\n",
              "    <tr>\n",
              "      <th>73568</th>\n",
              "      <td>26</td>\n",
              "      <td>0.0</td>\n",
              "      <td>25.8</td>\n",
              "      <td>32.6</td>\n",
              "      <td>1.0</td>\n",
              "      <td>5.0</td>\n",
              "      <td>152.5</td>\n",
              "      <td>5.00</td>\n",
              "      <td>34.4</td>\n",
              "      <td>3</td>\n",
              "      <td>73.7</td>\n",
              "      <td>47.1</td>\n",
              "    </tr>\n",
              "    <tr>\n",
              "      <th>73574</th>\n",
              "      <td>33</td>\n",
              "      <td>1.0</td>\n",
              "      <td>26.5</td>\n",
              "      <td>33.4</td>\n",
              "      <td>1.0</td>\n",
              "      <td>5.0</td>\n",
              "      <td>158.0</td>\n",
              "      <td>2.10</td>\n",
              "      <td>37.5</td>\n",
              "      <td>6</td>\n",
              "      <td>78.7</td>\n",
              "      <td>56.8</td>\n",
              "    </tr>\n",
              "    <tr>\n",
              "      <th>73596</th>\n",
              "      <td>57</td>\n",
              "      <td>0.0</td>\n",
              "      <td>37.2</td>\n",
              "      <td>37.6</td>\n",
              "      <td>1.0</td>\n",
              "      <td>5.0</td>\n",
              "      <td>164.7</td>\n",
              "      <td>5.00</td>\n",
              "      <td>35.3</td>\n",
              "      <td>6</td>\n",
              "      <td>117.8</td>\n",
              "      <td>104.0</td>\n",
              "    </tr>\n",
              "  </tbody>\n",
              "</table>\n",
              "</div>\n",
              "      <button class=\"colab-df-convert\" onclick=\"convertToInteractive('df-56afee9a-096a-4e10-904b-a091ee5f910f')\"\n",
              "              title=\"Convert this dataframe to an interactive table.\"\n",
              "              style=\"display:none;\">\n",
              "        \n",
              "  <svg xmlns=\"http://www.w3.org/2000/svg\" height=\"24px\"viewBox=\"0 0 24 24\"\n",
              "       width=\"24px\">\n",
              "    <path d=\"M0 0h24v24H0V0z\" fill=\"none\"/>\n",
              "    <path d=\"M18.56 5.44l.94 2.06.94-2.06 2.06-.94-2.06-.94-.94-2.06-.94 2.06-2.06.94zm-11 1L8.5 8.5l.94-2.06 2.06-.94-2.06-.94L8.5 2.5l-.94 2.06-2.06.94zm10 10l.94 2.06.94-2.06 2.06-.94-2.06-.94-.94-2.06-.94 2.06-2.06.94z\"/><path d=\"M17.41 7.96l-1.37-1.37c-.4-.4-.92-.59-1.43-.59-.52 0-1.04.2-1.43.59L10.3 9.45l-7.72 7.72c-.78.78-.78 2.05 0 2.83L4 21.41c.39.39.9.59 1.41.59.51 0 1.02-.2 1.41-.59l7.78-7.78 2.81-2.81c.8-.78.8-2.07 0-2.86zM5.41 20L4 18.59l7.72-7.72 1.47 1.35L5.41 20z\"/>\n",
              "  </svg>\n",
              "      </button>\n",
              "      \n",
              "  <style>\n",
              "    .colab-df-container {\n",
              "      display:flex;\n",
              "      flex-wrap:wrap;\n",
              "      gap: 12px;\n",
              "    }\n",
              "\n",
              "    .colab-df-convert {\n",
              "      background-color: #E8F0FE;\n",
              "      border: none;\n",
              "      border-radius: 50%;\n",
              "      cursor: pointer;\n",
              "      display: none;\n",
              "      fill: #1967D2;\n",
              "      height: 32px;\n",
              "      padding: 0 0 0 0;\n",
              "      width: 32px;\n",
              "    }\n",
              "\n",
              "    .colab-df-convert:hover {\n",
              "      background-color: #E2EBFA;\n",
              "      box-shadow: 0px 1px 2px rgba(60, 64, 67, 0.3), 0px 1px 3px 1px rgba(60, 64, 67, 0.15);\n",
              "      fill: #174EA6;\n",
              "    }\n",
              "\n",
              "    [theme=dark] .colab-df-convert {\n",
              "      background-color: #3B4455;\n",
              "      fill: #D2E3FC;\n",
              "    }\n",
              "\n",
              "    [theme=dark] .colab-df-convert:hover {\n",
              "      background-color: #434B5C;\n",
              "      box-shadow: 0px 1px 3px 1px rgba(0, 0, 0, 0.15);\n",
              "      filter: drop-shadow(0px 1px 2px rgba(0, 0, 0, 0.3));\n",
              "      fill: #FFFFFF;\n",
              "    }\n",
              "  </style>\n",
              "\n",
              "      <script>\n",
              "        const buttonEl =\n",
              "          document.querySelector('#df-56afee9a-096a-4e10-904b-a091ee5f910f button.colab-df-convert');\n",
              "        buttonEl.style.display =\n",
              "          google.colab.kernel.accessAllowed ? 'block' : 'none';\n",
              "\n",
              "        async function convertToInteractive(key) {\n",
              "          const element = document.querySelector('#df-56afee9a-096a-4e10-904b-a091ee5f910f');\n",
              "          const dataTable =\n",
              "            await google.colab.kernel.invokeFunction('convertToInteractive',\n",
              "                                                     [key], {});\n",
              "          if (!dataTable) return;\n",
              "\n",
              "          const docLinkHtml = 'Like what you see? Visit the ' +\n",
              "            '<a target=\"_blank\" href=https://colab.research.google.com/notebooks/data_table.ipynb>data table notebook</a>'\n",
              "            + ' to learn more about interactive tables.';\n",
              "          element.innerHTML = '';\n",
              "          dataTable['output_type'] = 'display_data';\n",
              "          await google.colab.output.renderOutput(dataTable, element);\n",
              "          const docLink = document.createElement('div');\n",
              "          docLink.innerHTML = docLinkHtml;\n",
              "          element.appendChild(docLink);\n",
              "        }\n",
              "      </script>\n",
              "    </div>\n",
              "  </div>\n",
              "  "
            ]
          },
          "metadata": {},
          "execution_count": 34
        }
      ],
      "source": [
        "print(df_f.shape)\n",
        "df_f.head()"
      ]
    },
    {
      "cell_type": "code",
      "execution_count": null,
      "metadata": {
        "id": "0Wx7OaKV_7HI"
      },
      "outputs": [],
      "source": [
        "# df_f['age'].describe()"
      ]
    },
    {
      "cell_type": "code",
      "execution_count": null,
      "metadata": {
        "colab": {
          "base_uri": "https://localhost:8080/"
        },
        "id": "gyr3fDSHAYDW",
        "outputId": "5b256691-5ce1-4ef0-f621-b57f40f01e3c"
      },
      "outputs": [
        {
          "output_type": "execute_result",
          "data": {
            "text/plain": [
              "((2281, 12), (2281, 11), (2281,))"
            ]
          },
          "metadata": {},
          "execution_count": 36
        }
      ],
      "source": [
        "target = 'anemia'\n",
        "X = df_f.drop(columns=target)\n",
        "y=df_f[target]\n",
        "\n",
        "df_f.shape, X.shape, y.shape"
      ]
    },
    {
      "cell_type": "code",
      "execution_count": null,
      "metadata": {
        "colab": {
          "base_uri": "https://localhost:8080/",
          "height": 237
        },
        "id": "qgFvqEOfhpu7",
        "outputId": "ad9548ed-1ab2-41ba-edda-fa59e529dad9"
      },
      "outputs": [
        {
          "output_type": "execute_result",
          "data": {
            "text/plain": [
              "       age  arm_circum  arm_cm  dominant_hand  education  height  \\\n",
              "id                                                                 \n",
              "73564   61        38.0    39.3            1.0        5.0   161.8   \n",
              "73566   56        29.0    33.5            2.0        3.0   152.8   \n",
              "73568   26        25.8    32.6            1.0        5.0   152.5   \n",
              "73574   33        26.5    33.4            1.0        5.0   158.0   \n",
              "73596   57        37.2    37.6            1.0        5.0   164.7   \n",
              "\n",
              "       inc_poverty_ratio  leg_cm  race  waist_circum  weight  \n",
              "id                                                            \n",
              "73564               5.00    37.1     3         110.8    93.4  \n",
              "73566               0.48    32.4     3          85.5    61.8  \n",
              "73568               5.00    34.4     3          73.7    47.1  \n",
              "73574               2.10    37.5     6          78.7    56.8  \n",
              "73596               5.00    35.3     6         117.8   104.0  "
            ],
            "text/html": [
              "\n",
              "  <div id=\"df-94b88a8a-fa5c-43ec-a445-ce73d5b9ecac\">\n",
              "    <div class=\"colab-df-container\">\n",
              "      <div>\n",
              "<style scoped>\n",
              "    .dataframe tbody tr th:only-of-type {\n",
              "        vertical-align: middle;\n",
              "    }\n",
              "\n",
              "    .dataframe tbody tr th {\n",
              "        vertical-align: top;\n",
              "    }\n",
              "\n",
              "    .dataframe thead th {\n",
              "        text-align: right;\n",
              "    }\n",
              "</style>\n",
              "<table border=\"1\" class=\"dataframe\">\n",
              "  <thead>\n",
              "    <tr style=\"text-align: right;\">\n",
              "      <th></th>\n",
              "      <th>age</th>\n",
              "      <th>arm_circum</th>\n",
              "      <th>arm_cm</th>\n",
              "      <th>dominant_hand</th>\n",
              "      <th>education</th>\n",
              "      <th>height</th>\n",
              "      <th>inc_poverty_ratio</th>\n",
              "      <th>leg_cm</th>\n",
              "      <th>race</th>\n",
              "      <th>waist_circum</th>\n",
              "      <th>weight</th>\n",
              "    </tr>\n",
              "    <tr>\n",
              "      <th>id</th>\n",
              "      <th></th>\n",
              "      <th></th>\n",
              "      <th></th>\n",
              "      <th></th>\n",
              "      <th></th>\n",
              "      <th></th>\n",
              "      <th></th>\n",
              "      <th></th>\n",
              "      <th></th>\n",
              "      <th></th>\n",
              "      <th></th>\n",
              "    </tr>\n",
              "  </thead>\n",
              "  <tbody>\n",
              "    <tr>\n",
              "      <th>73564</th>\n",
              "      <td>61</td>\n",
              "      <td>38.0</td>\n",
              "      <td>39.3</td>\n",
              "      <td>1.0</td>\n",
              "      <td>5.0</td>\n",
              "      <td>161.8</td>\n",
              "      <td>5.00</td>\n",
              "      <td>37.1</td>\n",
              "      <td>3</td>\n",
              "      <td>110.8</td>\n",
              "      <td>93.4</td>\n",
              "    </tr>\n",
              "    <tr>\n",
              "      <th>73566</th>\n",
              "      <td>56</td>\n",
              "      <td>29.0</td>\n",
              "      <td>33.5</td>\n",
              "      <td>2.0</td>\n",
              "      <td>3.0</td>\n",
              "      <td>152.8</td>\n",
              "      <td>0.48</td>\n",
              "      <td>32.4</td>\n",
              "      <td>3</td>\n",
              "      <td>85.5</td>\n",
              "      <td>61.8</td>\n",
              "    </tr>\n",
              "    <tr>\n",
              "      <th>73568</th>\n",
              "      <td>26</td>\n",
              "      <td>25.8</td>\n",
              "      <td>32.6</td>\n",
              "      <td>1.0</td>\n",
              "      <td>5.0</td>\n",
              "      <td>152.5</td>\n",
              "      <td>5.00</td>\n",
              "      <td>34.4</td>\n",
              "      <td>3</td>\n",
              "      <td>73.7</td>\n",
              "      <td>47.1</td>\n",
              "    </tr>\n",
              "    <tr>\n",
              "      <th>73574</th>\n",
              "      <td>33</td>\n",
              "      <td>26.5</td>\n",
              "      <td>33.4</td>\n",
              "      <td>1.0</td>\n",
              "      <td>5.0</td>\n",
              "      <td>158.0</td>\n",
              "      <td>2.10</td>\n",
              "      <td>37.5</td>\n",
              "      <td>6</td>\n",
              "      <td>78.7</td>\n",
              "      <td>56.8</td>\n",
              "    </tr>\n",
              "    <tr>\n",
              "      <th>73596</th>\n",
              "      <td>57</td>\n",
              "      <td>37.2</td>\n",
              "      <td>37.6</td>\n",
              "      <td>1.0</td>\n",
              "      <td>5.0</td>\n",
              "      <td>164.7</td>\n",
              "      <td>5.00</td>\n",
              "      <td>35.3</td>\n",
              "      <td>6</td>\n",
              "      <td>117.8</td>\n",
              "      <td>104.0</td>\n",
              "    </tr>\n",
              "  </tbody>\n",
              "</table>\n",
              "</div>\n",
              "      <button class=\"colab-df-convert\" onclick=\"convertToInteractive('df-94b88a8a-fa5c-43ec-a445-ce73d5b9ecac')\"\n",
              "              title=\"Convert this dataframe to an interactive table.\"\n",
              "              style=\"display:none;\">\n",
              "        \n",
              "  <svg xmlns=\"http://www.w3.org/2000/svg\" height=\"24px\"viewBox=\"0 0 24 24\"\n",
              "       width=\"24px\">\n",
              "    <path d=\"M0 0h24v24H0V0z\" fill=\"none\"/>\n",
              "    <path d=\"M18.56 5.44l.94 2.06.94-2.06 2.06-.94-2.06-.94-.94-2.06-.94 2.06-2.06.94zm-11 1L8.5 8.5l.94-2.06 2.06-.94-2.06-.94L8.5 2.5l-.94 2.06-2.06.94zm10 10l.94 2.06.94-2.06 2.06-.94-2.06-.94-.94-2.06-.94 2.06-2.06.94z\"/><path d=\"M17.41 7.96l-1.37-1.37c-.4-.4-.92-.59-1.43-.59-.52 0-1.04.2-1.43.59L10.3 9.45l-7.72 7.72c-.78.78-.78 2.05 0 2.83L4 21.41c.39.39.9.59 1.41.59.51 0 1.02-.2 1.41-.59l7.78-7.78 2.81-2.81c.8-.78.8-2.07 0-2.86zM5.41 20L4 18.59l7.72-7.72 1.47 1.35L5.41 20z\"/>\n",
              "  </svg>\n",
              "      </button>\n",
              "      \n",
              "  <style>\n",
              "    .colab-df-container {\n",
              "      display:flex;\n",
              "      flex-wrap:wrap;\n",
              "      gap: 12px;\n",
              "    }\n",
              "\n",
              "    .colab-df-convert {\n",
              "      background-color: #E8F0FE;\n",
              "      border: none;\n",
              "      border-radius: 50%;\n",
              "      cursor: pointer;\n",
              "      display: none;\n",
              "      fill: #1967D2;\n",
              "      height: 32px;\n",
              "      padding: 0 0 0 0;\n",
              "      width: 32px;\n",
              "    }\n",
              "\n",
              "    .colab-df-convert:hover {\n",
              "      background-color: #E2EBFA;\n",
              "      box-shadow: 0px 1px 2px rgba(60, 64, 67, 0.3), 0px 1px 3px 1px rgba(60, 64, 67, 0.15);\n",
              "      fill: #174EA6;\n",
              "    }\n",
              "\n",
              "    [theme=dark] .colab-df-convert {\n",
              "      background-color: #3B4455;\n",
              "      fill: #D2E3FC;\n",
              "    }\n",
              "\n",
              "    [theme=dark] .colab-df-convert:hover {\n",
              "      background-color: #434B5C;\n",
              "      box-shadow: 0px 1px 3px 1px rgba(0, 0, 0, 0.15);\n",
              "      filter: drop-shadow(0px 1px 2px rgba(0, 0, 0, 0.3));\n",
              "      fill: #FFFFFF;\n",
              "    }\n",
              "  </style>\n",
              "\n",
              "      <script>\n",
              "        const buttonEl =\n",
              "          document.querySelector('#df-94b88a8a-fa5c-43ec-a445-ce73d5b9ecac button.colab-df-convert');\n",
              "        buttonEl.style.display =\n",
              "          google.colab.kernel.accessAllowed ? 'block' : 'none';\n",
              "\n",
              "        async function convertToInteractive(key) {\n",
              "          const element = document.querySelector('#df-94b88a8a-fa5c-43ec-a445-ce73d5b9ecac');\n",
              "          const dataTable =\n",
              "            await google.colab.kernel.invokeFunction('convertToInteractive',\n",
              "                                                     [key], {});\n",
              "          if (!dataTable) return;\n",
              "\n",
              "          const docLinkHtml = 'Like what you see? Visit the ' +\n",
              "            '<a target=\"_blank\" href=https://colab.research.google.com/notebooks/data_table.ipynb>data table notebook</a>'\n",
              "            + ' to learn more about interactive tables.';\n",
              "          element.innerHTML = '';\n",
              "          dataTable['output_type'] = 'display_data';\n",
              "          await google.colab.output.renderOutput(dataTable, element);\n",
              "          const docLink = document.createElement('div');\n",
              "          docLink.innerHTML = docLinkHtml;\n",
              "          element.appendChild(docLink);\n",
              "        }\n",
              "      </script>\n",
              "    </div>\n",
              "  </div>\n",
              "  "
            ]
          },
          "metadata": {},
          "execution_count": 37
        }
      ],
      "source": [
        "X.head()"
      ]
    },
    {
      "cell_type": "code",
      "execution_count": null,
      "metadata": {
        "colab": {
          "base_uri": "https://localhost:8080/"
        },
        "id": "gZA1UsYGLe3Y",
        "outputId": "58fff601-338f-4f1b-94c7-b69172400aac"
      },
      "outputs": [
        {
          "output_type": "execute_result",
          "data": {
            "text/plain": [
              "0.0    1992\n",
              "1.0     289\n",
              "Name: anemia, dtype: int64"
            ]
          },
          "metadata": {},
          "execution_count": 38
        }
      ],
      "source": [
        "y.value_counts()"
      ]
    },
    {
      "cell_type": "code",
      "execution_count": null,
      "metadata": {
        "id": "8MWxBooOm6J1"
      },
      "outputs": [],
      "source": [
        "#Train_ and Test split \n",
        "X_train_, X_test, y_train_, y_test = train_test_split(X, y , test_size=0.2)"
      ]
    },
    {
      "cell_type": "code",
      "execution_count": null,
      "metadata": {
        "colab": {
          "base_uri": "https://localhost:8080/"
        },
        "id": "oZgChL1FjQxG",
        "outputId": "76b0c76d-be0b-44a0-9be1-2a62a0d4b620"
      },
      "outputs": [
        {
          "output_type": "stream",
          "name": "stdout",
          "text": [
            "Original dataset shape Counter({0.0: 1992, 1.0: 289})\n",
            "Resample dataset shape Counter({0.0: 1599, 1.0: 1599})\n"
          ]
        }
      ],
      "source": [
        "#SMOTE\n",
        "# import library\n",
        "from imblearn.over_sampling import SMOTE\n",
        "from collections import Counter\n",
        "\n",
        "smote = SMOTE()\n",
        "\n",
        "# fit predictor and target variable\n",
        "X_smote, y_smote = smote.fit_resample(X_train_, y_train_)\n",
        "\n",
        "print('Original dataset shape', Counter(y))\n",
        "print('Resample dataset shape', Counter(y_smote))"
      ]
    },
    {
      "cell_type": "code",
      "execution_count": null,
      "metadata": {
        "id": "TvCQMVnRLN4q"
      },
      "outputs": [],
      "source": [
        "#SMOTE\n",
        "\n",
        "# Train and Validation\n",
        "X_train, X_val, y_train, y_val = train_test_split(X_smote, y_smote, test_size=0.25)"
      ]
    },
    {
      "cell_type": "code",
      "execution_count": null,
      "metadata": {
        "colab": {
          "base_uri": "https://localhost:8080/"
        },
        "id": "9u7XMf2vLN22",
        "outputId": "2c05d432-d4d6-4ee6-f3b2-d8413cb9b508"
      },
      "outputs": [
        {
          "output_type": "execute_result",
          "data": {
            "text/plain": [
              "((2398, 11), (2398,), (800, 11), (800,))"
            ]
          },
          "metadata": {},
          "execution_count": 42
        }
      ],
      "source": [
        "X_train.shape, y_train.shape, X_val.shape,y_val.shape"
      ]
    },
    {
      "cell_type": "code",
      "execution_count": null,
      "metadata": {
        "colab": {
          "base_uri": "https://localhost:8080/"
        },
        "id": "iQ1nIeqJLN0r",
        "outputId": "84e402ce-5e3b-44c0-fd24-86d4cee984d9"
      },
      "outputs": [
        {
          "output_type": "stream",
          "name": "stdout",
          "text": [
            "baseline accuracy: 0.505838198498749\n"
          ]
        }
      ],
      "source": [
        "print('baseline accuracy:', y_train.value_counts(normalize=True).max())"
      ]
    },
    {
      "cell_type": "code",
      "execution_count": null,
      "metadata": {
        "id": "RP315jG8LNyk"
      },
      "outputs": [],
      "source": [
        "model_randomf = make_pipeline(\n",
        "    OrdinalEncoder(),\n",
        "    SimpleImputer(),\n",
        "    RandomForestClassifier(random_state=42, n_jobs=-1)\n",
        ")\n",
        "\n",
        "model_randomf.fit(X_train, y_train);"
      ]
    },
    {
      "cell_type": "code",
      "execution_count": null,
      "metadata": {
        "colab": {
          "base_uri": "https://localhost:8080/"
        },
        "id": "e3vdO-IlLNwY",
        "outputId": "2e7a4635-f9c0-4fc7-8af1-527a42027700"
      },
      "outputs": [
        {
          "output_type": "stream",
          "name": "stdout",
          "text": [
            "FOREST: Training Accuracy: 1.0\n",
            "FOREST: Validation Accuracy: 0.93375\n",
            "FOREST: Test Accuracy: 0.8468271334792122\n"
          ]
        }
      ],
      "source": [
        "print('FOREST: Training Accuracy:',model_randomf.score(X_train, y_train))\n",
        "print('FOREST: Validation Accuracy:',model_randomf.score(X_val, y_val))\n",
        "print('FOREST: Test Accuracy:',model_randomf.score(X_test, y_test))"
      ]
    },
    {
      "cell_type": "code",
      "execution_count": null,
      "metadata": {
        "colab": {
          "base_uri": "https://localhost:8080/",
          "height": 279
        },
        "id": "24O-NJOKLNt_",
        "outputId": "2962a694-5d17-46ee-8639-517af5a92ae4"
      },
      "outputs": [
        {
          "output_type": "display_data",
          "data": {
            "text/plain": [
              "<Figure size 432x288 with 1 Axes>"
            ],
            "image/png": "[encoded data removed]"
          },
          "metadata": {
            "needs_background": "light"
          }
        }
      ],
      "source": [
        "# What are the most important features? \n",
        "features = model_randomf.named_steps['ordinalencoder'].get_feature_names()\n",
        "gini = model_randomf.named_steps['randomforestclassifier'].feature_importances_\n",
        "pd.Series(data=gini, index=features).sort_values(key=abs).tail(11).plot(kind='barh')\n",
        "plt.ylabel('features')\n",
        "plt.xlabel('gini importance');"
      ]
    },
    {
      "cell_type": "code",
      "execution_count": null,
      "metadata": {
        "id": "f2Ev9pePsNho"
      },
      "outputs": [],
      "source": [
        "cv_scores_rf = cross_val_score(model_randomf, X, y, cv=10,n_jobs=-1)"
      ]
    },
    {
      "cell_type": "code",
      "execution_count": null,
      "metadata": {
        "colab": {
          "base_uri": "https://localhost:8080/"
        },
        "id": "hLdTMyJVsNZz",
        "outputId": "95cb4cb2-cb12-4b13-ca05-09557d15ca5f"
      },
      "outputs": [
        {
          "output_type": "stream",
          "name": "stdout",
          "text": [
            "CV score RandomForestClassifier\n",
            "Mean CV accuracy score: 0.8719853673485023\n",
            "STD CV accuracy score: 0.0038399337934217\n"
          ]
        }
      ],
      "source": [
        "print('CV score RandomForestClassifier')\n",
        "print('Mean CV accuracy score:', cv_scores_rf.mean())\n",
        "print('STD CV accuracy score:', cv_scores_rf.std())"
      ]
    },
    {
      "cell_type": "code",
      "execution_count": null,
      "metadata": {
        "id": "CnbFul7MskZg"
      },
      "outputs": [],
      "source": [
        "clf = make_pipeline(\n",
        "    OrdinalEncoder(),\n",
        "    SimpleImputer(),\n",
        "    RandomForestClassifier(random_state=42, n_jobs=-1)\n",
        ")\n",
        "\n",
        "param_grid = {\n",
        "    'simpleimputer__strategy': ['mean', 'median'],\n",
        "    'randomforestclassifier__max_depth': range(50, 100, 50),\n",
        "    'randomforestclassifier__max_features': range(5, 11, 1),\n",
        "    'randomforestclassifier__n_estimators': range(100, 300, 50)\n",
        "}\n",
        "\n",
        "model_rfgrid = GridSearchCV(\n",
        "    clf,\n",
        "    param_grid = param_grid,\n",
        "    n_jobs=-1,\n",
        "    cv=None,\n",
        "    verbose=1 # status updates\n",
        ")\n",
        "\n",
        "model_rfgrid.fit(X, y)"
      ]
    },
    {
      "cell_type": "code",
      "execution_count": null,
      "metadata": {
        "colab": {
          "base_uri": "https://localhost:8080/"
        },
        "id": "P_DJHAfF2hyU",
        "outputId": "2dc0a622-c7f1-4bc0-da58-0a6772b0b9d4"
      },
      "outputs": [
        {
          "data": {
            "text/plain": [
              "Pipeline(steps=[('ordinalencoder', OrdinalEncoder(cols=[], mapping=[])),\n",
              "                ('simpleimputer', SimpleImputer()),\n",
              "                ('randomforestclassifier',\n",
              "                 RandomForestClassifier(max_depth=50, max_features=5,\n",
              "                                        n_estimators=250, n_jobs=-1,\n",
              "                                        random_state=42))])"
            ]
          },
          "execution_count": 67,
          "metadata": {},
          "output_type": "execute_result"
        }
      ],
      "source": [
        "model_rfgrid.best_estimator_ "
      ]
    },
    {
      "cell_type": "code",
      "execution_count": null,
      "metadata": {
        "id": "EvBVvXUNskWh"
      },
      "outputs": [],
      "source": [
        "model_rf_tuned = make_pipeline(\n",
        "    OrdinalEncoder(),\n",
        "    SimpleImputer(),\n",
        "    RandomForestClassifier(\n",
        "        max_depth=50,max_features=5 ,n_estimators=140,\n",
        "        random_state=42, n_jobs=-1)\n",
        ")\n",
        "\n",
        "model_rf_tuned.fit(X_train, y_train);"
      ]
    },
    {
      "cell_type": "code",
      "execution_count": null,
      "metadata": {
        "colab": {
          "base_uri": "https://localhost:8080/"
        },
        "id": "DHbEu6SXsNXC",
        "outputId": "a6013276-18ed-422a-ade2-31adaf5bb561"
      },
      "outputs": [
        {
          "output_type": "stream",
          "name": "stdout",
          "text": [
            "Training Accuracy: 1.0\n",
            "Validation Accuracy: 0.93625\n",
            "Test Accuracy: 0.8533916849015317\n"
          ]
        }
      ],
      "source": [
        "print('Training Accuracy:',model_rf_tuned.score(X_train, y_train))\n",
        "print('Validation Accuracy:',model_rf_tuned.score(X_val, y_val))\n",
        "print('Test Accuracy:',model_rf_tuned.score(X_test, y_test))"
      ]
    },
    {
      "cell_type": "code",
      "execution_count": null,
      "metadata": {
        "id": "OeerSGtDsNUO"
      },
      "outputs": [],
      "source": [
        "bestimator = model_rfgrid.best_estimator_\n",
        "importances = bestimator.named_steps['randomforestclassifier'].feature_importances_\n",
        "features = X_train.columns\n",
        "feat_imp = pd.Series(importances, index=features).sort_values()\n",
        "feat_imp.tail(11).plot(kind='barh')\n",
        "plt.xlabel('Reduction in Gini Impurity');"
      ]
    },
    {
      "cell_type": "code",
      "execution_count": null,
      "metadata": {
        "colab": {
          "base_uri": "https://localhost:8080/",
          "height": 334
        },
        "id": "vYjj0Dm-sNRV",
        "outputId": "8bc198e6-a019-49df-e563-baf600fd66fa"
      },
      "outputs": [
        {
          "output_type": "stream",
          "name": "stderr",
          "text": [
            "/usr/local/lib/python3.7/dist-packages/sklearn/utils/deprecation.py:87: FutureWarning: Function plot_confusion_matrix is deprecated; Function `plot_confusion_matrix` is deprecated in 1.0 and will be removed in 1.2. Use one of the class methods: ConfusionMatrixDisplay.from_predictions or ConfusionMatrixDisplay.from_estimator.\n",
            "  warnings.warn(msg, category=FutureWarning)\n"
          ]
        },
        {
          "output_type": "display_data",
          "data": {
            "text/plain": [
              "<Figure size 432x288 with 2 Axes>"
            ],
            "image/png": "[encoded data removed]"
          },
          "metadata": {
            "needs_background": "light"
          }
        }
      ],
      "source": [
        "\n",
        "from sklearn.metrics import plot_confusion_matrix, classification_report\n",
        "plot_confusion_matrix(\n",
        "    model_randomf,\n",
        "    X_val, # validation data\n",
        "    y_val, # validation data\n",
        "    values_format ='.0f',\n",
        "    display_labels = ['No Anemia', 'Anemia']\n",
        ");"
      ]
    },
    {
      "cell_type": "code",
      "execution_count": null,
      "metadata": {
        "colab": {
          "base_uri": "https://localhost:8080/"
        },
        "id": "IadhHNiMsNMh",
        "outputId": "6a46f880-8cdf-4b16-ab4d-bd49cdecf1de"
      },
      "outputs": [
        {
          "output_type": "stream",
          "name": "stdout",
          "text": [
            "              precision    recall  f1-score   support\n",
            "\n",
            "   no anemia       0.95      0.97      0.96       423\n",
            "      anemia       0.97      0.95      0.96       400\n",
            "\n",
            "    accuracy                           0.96       823\n",
            "   macro avg       0.96      0.96      0.96       823\n",
            "weighted avg       0.96      0.96      0.96       823\n",
            "\n"
          ]
        }
      ],
      "source": [
        "print(classification_report(y_val,\n",
        "                      model_randomf.predict(X_val),\n",
        "                      target_names=['no anemia', 'anemia']))"
      ]
    },
    {
      "cell_type": "code",
      "execution_count": null,
      "metadata": {
        "colab": {
          "base_uri": "https://localhost:8080/",
          "height": 334
        },
        "id": "0-hC3EscQV6I",
        "outputId": "12a05f52-6c4f-4dd1-ff9a-fc7b14af5172"
      },
      "outputs": [
        {
          "output_type": "stream",
          "name": "stderr",
          "text": [
            "/usr/local/lib/python3.7/dist-packages/sklearn/utils/deprecation.py:87: FutureWarning: Function plot_roc_curve is deprecated; Function :func:`plot_roc_curve` is deprecated in 1.0 and will be removed in 1.2. Use one of the class methods: :meth:`sklearn.metric.RocCurveDisplay.from_predictions` or :meth:`sklearn.metric.RocCurveDisplay.from_estimator`.\n",
            "  warnings.warn(msg, category=FutureWarning)\n"
          ]
        },
        {
          "output_type": "display_data",
          "data": {
            "text/plain": [
              "<Figure size 432x288 with 1 Axes>"
            ],
            "image/png": "[encoded data removed]"
          },
          "metadata": {
            "needs_background": "light"
          }
        }
      ],
      "source": [
        "from sklearn.metrics import classification_report, roc_curve, plot_confusion_matrix, plot_roc_curve,roc_auc_score\n",
        "rf = plot_roc_curve(\n",
        "    model_randomf,\n",
        "    X_val,\n",
        "    y_val,\n",
        "    name='random forest'\n",
        ");"
      ]
    },
    {
      "cell_type": "code",
      "execution_count": null,
      "metadata": {
        "colab": {
          "base_uri": "https://localhost:8080/"
        },
        "id": "V0mJXbxmQ3zJ",
        "outputId": "c2d82a96-0440-40f6-b590-2212b62fc910"
      },
      "outputs": [
        {
          "output_type": "execute_result",
          "data": {
            "text/plain": [
              "0.985913120567376"
            ]
          },
          "metadata": {},
          "execution_count": 30
        }
      ],
      "source": [
        "roc_auc_score(y_val, model_randomf.predict_proba(X_val)[:,-1])"
      ]
    },
    {
      "cell_type": "code",
      "execution_count": null,
      "metadata": {
        "id": "ZpbqziZfRG3L"
      },
      "outputs": [],
      "source": [
        "# Get predicted probabilities from model\n",
        "\n",
        "y_pred_prob = model_randomf.predict_proba(X_val)[:,-1]\n",
        "\n",
        "# Input true labels and probability predictions \n",
        "fpr, tpr, thresholds = roc_curve(y_val, y_pred_prob)\n",
        "\n",
        "# Put data into dictionary\n",
        "data = {'false_pos_rate': fpr,\n",
        "        'true_pos_rate': tpr,\n",
        "        'thresholds':thresholds}\n",
        "\n",
        "pd.options.display.max_rows=99\n",
        "pd.DataFrame(data)"
      ]
    },
    {
      "cell_type": "code",
      "execution_count": null,
      "metadata": {
        "id": "-SBnvAxoR2rN"
      },
      "outputs": [],
      "source": [
        "#????? set the threshold in the model after retrieving it from ROC curve"
      ]
    },
    {
      "cell_type": "code",
      "execution_count": null,
      "metadata": {
        "id": "okn3C5-9SBQq"
      },
      "outputs": [],
      "source": [
        "y_pred_prob[y_pred_prob>= 0.36] = 1\n",
        "y_pred_prob[y_pred_prob < 0.36] = 0"
      ]
    },
    {
      "cell_type": "code",
      "execution_count": null,
      "metadata": {
        "colab": {
          "base_uri": "https://localhost:8080/"
        },
        "id": "PDyW539USVRl",
        "outputId": "eb5d98e1-daae-44a2-da47-8ba18d4f3d10"
      },
      "outputs": [
        {
          "output_type": "stream",
          "name": "stdout",
          "text": [
            "Validation Accuracy (RF): 0.9210206561360875\n"
          ]
        }
      ],
      "source": [
        "from sklearn.metrics import accuracy_score\n",
        "print('Validation Accuracy (RF):', accuracy_score(y_val, y_pred_prob)) # accuracy goes up! "
      ]
    }
  ],
  "metadata": {
    "accelerator": "GPU",
    "colab": {
      "collapsed_sections": [],
      "name": "anemia_females_RandomForest.ipynb",
      "provenance": []
    },
    "kernelspec": {
      "display_name": "Python 3",
      "name": "python3"
    },
    "language_info": {
      "name": "python"
    }
  },
  "nbformat": 4,
  "nbformat_minor": 0
}